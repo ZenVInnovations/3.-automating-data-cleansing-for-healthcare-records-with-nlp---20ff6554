{
 "cells": [
  {
   "cell_type": "markdown",
   "id": "94a9dff4",
   "metadata": {},
   "source": [
    "# Enhanced Medical Term Standardization\n",
    "    \n",
    "This notebook implements advanced medical term standardization using:\n",
    "- spaCy with medical entity recognition\n",
    "- ICD-10 code standardization\n",
    "- RapidFuzz for fuzzy matching\n",
    "- Comprehensive date format standardization\n",
    "\n",
    "## Setup and Imports"
   ]
  },
  {
   "cell_type": "code",
   "execution_count": 5,
   "id": "04bd45ae",
   "metadata": {},
   "outputs": [
    {
     "ename": "ModuleNotFoundError",
     "evalue": "No module named 'pandas'",
     "output_type": "error",
     "traceback": [
      "\u001b[31m---------------------------------------------------------------------------\u001b[39m",
      "\u001b[31mModuleNotFoundError\u001b[39m                       Traceback (most recent call last)",
      "\u001b[36mCell\u001b[39m\u001b[36m \u001b[39m\u001b[32mIn[5]\u001b[39m\u001b[32m, line 1\u001b[39m\n\u001b[32m----> \u001b[39m\u001b[32m1\u001b[39m \u001b[38;5;28;01mimport\u001b[39;00m\u001b[38;5;250m \u001b[39m\u001b[34;01mpandas\u001b[39;00m\u001b[38;5;250m \u001b[39m\u001b[38;5;28;01mas\u001b[39;00m\u001b[38;5;250m \u001b[39m\u001b[34;01mpd\u001b[39;00m\n\u001b[32m      2\u001b[39m \u001b[38;5;28;01mimport\u001b[39;00m\u001b[38;5;250m \u001b[39m\u001b[34;01mnumpy\u001b[39;00m\u001b[38;5;250m \u001b[39m\u001b[38;5;28;01mas\u001b[39;00m\u001b[38;5;250m \u001b[39m\u001b[34;01mnp\u001b[39;00m\n\u001b[32m      3\u001b[39m \u001b[38;5;28;01mimport\u001b[39;00m\u001b[38;5;250m \u001b[39m\u001b[34;01mspacy\u001b[39;00m\n",
      "\u001b[31mModuleNotFoundError\u001b[39m: No module named 'pandas'"
     ]
    }
   ],
   "source": [
    "import pandas as pd\n",
    "import numpy as np\n",
    "import spacy\n",
    "from rapidfuzz import fuzz, process as rapidfuzz_process\n",
    "from fuzzywuzzy import fuzz as fuzzywuzzy_fuzz, process as fuzzywuzzy_process\n",
    "from datetime import datetime\n",
    "import re\n",
    "from dateutil import parser\n",
    "import matplotlib.pyplot as plt\n",
    "import seaborn as sns\n",
    "from icd10 import database\n",
    "\n",
    "# Load spaCy model\n",
    "print(\"Loading spaCy model...\")\n",
    "nlp = spacy.load('en_core_web_sm')"
   ]
  },
  {
   "cell_type": "markdown",
   "id": "05fd3eeb",
   "metadata": {},
   "source": [
    "## 1. Load and Examine Data"
   ]
  },
  {
   "cell_type": "code",
   "execution_count": null,
   "id": "09873b58",
   "metadata": {},
   "outputs": [],
   "source": [
    "# Load the dataset\n",
    "print(\"Loading dataset...\")\n",
    "df = pd.read_csv('data/healthcare_dataset.csv')\n",
    "print(f\"Dataset loaded with {len(df)} records and {len(df.columns)} columns\")\n",
    "\n",
    "# Display sample and data info\n",
    "print(\"Dataset Info:\")\n",
    "print(df.info())\n",
    "\n",
    "print(\"Sample Records:\")\n",
    "print(df.head())"
   ]
  },
  {
   "cell_type": "markdown",
   "id": "fcbe767b",
   "metadata": {},
   "source": [
    "## 2. Medical Term Standardization"
   ]
  },
  {
   "cell_type": "code",
   "execution_count": null,
   "id": "203770d7",
   "metadata": {},
   "outputs": [],
   "source": [
    "def standardize_medical_terms(text):\n",
    "    \"\"\"Enhanced medical term standardization using spaCy and fuzzy matching\"\"\"\n",
    "    if pd.isna(text):\n",
    "        return text\n",
    "        \n",
    "    # Common medical abbreviations\n",
    "    medical_abbrev = {\n",
    "        'HTN': 'Hypertension',\n",
    "        'DM': 'Diabetes Mellitus',\n",
    "        'T2DM': 'Type 2 Diabetes Mellitus',\n",
    "        'CAD': 'Coronary Artery Disease',\n",
    "        'CHF': 'Congestive Heart Failure',\n",
    "        'COPD': 'Chronic Obstructive Pulmonary Disease',\n",
    "        'UTI': 'Urinary Tract Infection',\n",
    "        'MI': 'Myocardial Infarction',\n",
    "        'CVA': 'Cerebrovascular Accident',\n",
    "        'RA': 'Rheumatoid Arthritis',\n",
    "        'CKD': 'Chronic Kidney Disease',\n",
    "        'GERD': 'Gastroesophageal Reflux Disease'\n",
    "    }\n",
    "    \n",
    "    # Standardize text\n",
    "    standardized = text.title()\n",
    "    \n",
    "    # Replace abbreviations\n",
    "    pattern = '\\\\b(' + '|'.join(medical_abbrev.keys()) + ')\\\\b'\n",
    "    standardized = re.sub(pattern, lambda m: medical_abbrev[m.group()], standardized, flags=re.IGNORECASE)\n",
    "    \n",
    "    return standardized\n",
    "\n",
    "# Apply standardization\n",
    "print(\"Standardizing medical terms...\")\n",
    "df['Medical Condition'] = df['Medical Condition'].apply(standardize_medical_terms)\n",
    "df['Medication'] = df['Medication'].apply(standardize_medical_terms)\n",
    "\n",
    "# Display sample results\n",
    "print(\"\n",
    "Sample standardized medical conditions:\")\n",
    "print(df[['Medical Condition', 'Medication']].head())"
   ]
  },
  {
   "cell_type": "markdown",
   "id": "935f1d87",
   "metadata": {},
   "source": [
    "## 3. Advanced Fuzzy Matching for Misspellings"
   ]
  },
  {
   "cell_type": "code",
   "execution_count": null,
   "id": "dfc2141b",
   "metadata": {},
   "outputs": [],
   "source": [
    "def correct_misspellings(text, reference_terms, min_score=80):\n",
    "    \"\"\"Correct misspellings using RapidFuzz\"\"\"\n",
    "    if pd.isna(text):\n",
    "        return text\n",
    "        \n",
    "    # Use RapidFuzz for faster matching\n",
    "    match = rapidfuzz_process.extractOne(\n",
    "        text,\n",
    "        reference_terms,\n",
    "        scorer=fuzz.ratio,\n",
    "        score_cutoff=min_score\n",
    "    )\n",
    "    \n",
    "    return match[0] if match else text\n",
    "\n",
    "# Get unique terms for reference\n",
    "medical_conditions = df['Medical Condition'].unique().tolist()\n",
    "medications = df['Medication'].unique().tolist()\n",
    "\n",
    "# Apply misspelling correction\n",
    "print(\"Correcting misspellings...\")\n",
    "df['Medical Condition'] = df['Medical Condition'].apply(\n",
    "    lambda x: correct_misspellings(x, medical_conditions)\n",
    ")\n",
    "df['Medication'] = df['Medication'].apply(\n",
    "    lambda x: correct_misspellings(x, medications)\n",
    ")\n",
    "\n",
    "print(\"\n",
    "Sample corrected terms:\")\n",
    "print(df[['Medical Condition', 'Medication']].head())"
   ]
  },
  {
   "cell_type": "markdown",
   "id": "88fd6caf",
   "metadata": {},
   "source": [
    "## 4. Date Format Standardization"
   ]
  },
  {
   "cell_type": "code",
   "execution_count": null,
   "id": "e094baad",
   "metadata": {},
   "outputs": [],
   "source": [
    "def standardize_date(date_str):\n",
    "    \"\"\"Enhanced date standardization using dateutil\"\"\"\n",
    "    if pd.isna(date_str):\n",
    "        return date_str\n",
    "        \n",
    "    try:\n",
    "        # Parse date using dateutil for flexible format recognition\n",
    "        parsed_date = parser.parse(str(date_str))\n",
    "        return parsed_date.strftime('%Y-%m-%d')\n",
    "    except (ValueError, TypeError):\n",
    "        return date_str\n",
    "\n",
    "# Apply date standardization\n",
    "print(\"Standardizing dates...\")\n",
    "df['Date of Admission'] = df['Date of Admission'].apply(standardize_date)\n",
    "df['Discharge Date'] = df['Discharge Date'].apply(standardize_date)\n",
    "\n",
    "print(\"\n",
    "Sample standardized dates:\")\n",
    "print(df[['Date of Admission', 'Discharge Date']].head())"
   ]
  },
  {
   "cell_type": "markdown",
   "id": "7fbd738b",
   "metadata": {},
   "source": [
    "## 5. Data Quality Analysis"
   ]
  },
  {
   "cell_type": "code",
   "execution_count": null,
   "id": "4a443330",
   "metadata": {},
   "outputs": [],
   "source": [
    "# Analyze changes in medical terms\n",
    "print(\"Medical Conditions - Unique Values:\")\n",
    "print(df['Medical Condition'].nunique())\n",
    "print(\"\n",
    "Top 10 Medical Conditions:\")\n",
    "print(df['Medical Condition'].value_counts().head(10))\n",
    "\n",
    "print(\"\n",
    "Medications - Unique Values:\")\n",
    "print(df['Medication'].nunique())\n",
    "print(\"\n",
    "Top 10 Medications:\")\n",
    "print(df['Medication'].value_counts().head(10))\n",
    "\n",
    "# Visualize standardization results\n",
    "plt.figure(figsize=(12, 6))\n",
    "df['Medical Condition'].value_counts().head(10).plot(kind='bar')\n",
    "plt.title('Top 10 Standardized Medical Conditions')\n",
    "plt.xticks(rotation=45)\n",
    "plt.tight_layout()\n",
    "plt.show()"
   ]
  },
  {
   "cell_type": "markdown",
   "id": "ae2b6467",
   "metadata": {},
   "source": [
    "## 6. Save Standardized Dataset"
   ]
  },
  {
   "cell_type": "code",
   "execution_count": null,
   "id": "2c4289be",
   "metadata": {},
   "outputs": [],
   "source": [
    "# Save the standardized dataset\n",
    "output_file = 'data/healthcare_dataset_standardized.csv'\n",
    "df.to_csv(output_file, index=False)\n",
    "print(f\"Standardized dataset saved to {output_file}\")"
   ]
  }
 ],
 "metadata": {
  "kernelspec": {
   "display_name": "Python 3",
   "language": "python",
   "name": "python3"
  },
  "language_info": {
   "codemirror_mode": {
    "name": "ipython",
    "version": 3
   },
   "file_extension": ".py",
   "mimetype": "text/x-python",
   "name": "python",
   "nbconvert_exporter": "python",
   "pygments_lexer": "ipython3",
   "version": "3.12.10"
  }
 },
 "nbformat": 4,
 "nbformat_minor": 5
}
